{
 "cells": [
  {
   "cell_type": "markdown",
   "id": "6857aa56",
   "metadata": {
    "slideshow": {
     "slide_type": "slide"
    }
   },
   "source": [
    "# Friday Technology talk - _Sergei Silnov_ - 03.09.2021\n",
    "\n",
    "## AsyncIO: making python concurrent code neater"
   ]
  },
  {
   "cell_type": "markdown",
   "id": "6f21b2bd",
   "metadata": {
    "slideshow": {
     "slide_type": "slide"
    }
   },
   "source": [
    "# What options are available for concurrency in Python\n",
    "\n",
    "![](images/python_ways.svg)"
   ]
  },
  {
   "cell_type": "markdown",
   "id": "735ea5f6",
   "metadata": {
    "slideshow": {
     "slide_type": "slide"
    }
   },
   "source": [
    "##  What is Async IO?\n",
    "\n",
    "\n"
   ]
  },
  {
   "cell_type": "markdown",
   "id": "32994bf9",
   "metadata": {
    "slideshow": {
     "slide_type": "-"
    }
   },
   "source": [
    "https://en.wikipedia.org/wiki/Asynchronous_I/O\n",
    "    \n",
    "> In computer science, asynchronous I/O (also non-sequential I/O) is a form of input/output processing that permits other processing to continue before the transmission has finished.\n"
   ]
  },
  {
   "cell_type": "markdown",
   "id": "695e1c30",
   "metadata": {
    "slideshow": {
     "slide_type": "fragment"
    }
   },
   "source": [
    "## What is needed?\n",
    "\n",
    "1. Functions that can be paused and continued \n",
    "2. Scheduler (event loop)"
   ]
  },
  {
   "cell_type": "markdown",
   "id": "fad38583",
   "metadata": {
    "slideshow": {
     "slide_type": "slide"
    }
   },
   "source": [
    "##  What is AsyncIO?\n"
   ]
  },
  {
   "cell_type": "markdown",
   "id": "ca4bc82c",
   "metadata": {
    "slideshow": {
     "slide_type": "-"
    }
   },
   "source": [
    "> `asyncio` is a python package that implements concurrency with coroutines driven by an event loop"
   ]
  },
  {
   "cell_type": "markdown",
   "id": "a6896edf",
   "metadata": {
    "slideshow": {
     "slide_type": "slide"
    }
   },
   "source": [
    "# Generator based \"Coroutines\"\n",
    "## Back in 2006 - Python 2.5 \n",
    "\n",
    "https://www.python.org/dev/peps/pep-0342/\n"
   ]
  },
  {
   "cell_type": "code",
   "execution_count": 1,
   "id": "b4af2be9",
   "metadata": {
    "slideshow": {
     "slide_type": "slide"
    }
   },
   "outputs": [
    {
     "name": "stdout",
     "output_type": "stream",
     "text": [
      "<generator object gen at 0x7ff1bcc82cf0>\n",
      "Harvest!\n",
      "Harvest!\n",
      "0 1\n",
      "Harvest!\n",
      "Harvest!\n",
      "Harvest!\n",
      "[2, 3, 4]\n"
     ]
    }
   ],
   "source": [
    "def gen(max=5):\n",
    "    a = 0\n",
    "    while a < max:\n",
    "        print(\"Harvest!\")\n",
    "        yield a\n",
    "        a += 1\n",
    "\n",
    "l = gen()\n",
    "print(l)\n",
    "\n",
    "print(next(l), next(l))\n",
    "print(list(l))"
   ]
  },
  {
   "cell_type": "code",
   "execution_count": 2,
   "id": "8f62eb37",
   "metadata": {
    "slideshow": {
     "slide_type": "slide"
    }
   },
   "outputs": [
    {
     "name": "stdout",
     "output_type": "stream",
     "text": [
      "<generator object coro at 0x7ff1b837b0b0>\n",
      "Start something\n",
      "None\n",
      "Consumed! 1\n",
      "Consumed! wow\n",
      "Consumed! pow\n"
     ]
    },
    {
     "ename": "StopIteration",
     "evalue": "",
     "output_type": "error",
     "traceback": [
      "\u001b[0;31m---------------------------------------------------------------------------\u001b[0m",
      "\u001b[0;31mStopIteration\u001b[0m                             Traceback (most recent call last)",
      "\u001b[0;32m/tmp/ipykernel_113892/583807398.py\u001b[0m in \u001b[0;36m<module>\u001b[0;34m\u001b[0m\n\u001b[1;32m     14\u001b[0m \u001b[0ml\u001b[0m\u001b[0;34m.\u001b[0m\u001b[0msend\u001b[0m\u001b[0;34m(\u001b[0m\u001b[0;36m1\u001b[0m\u001b[0;34m)\u001b[0m\u001b[0;34m\u001b[0m\u001b[0;34m\u001b[0m\u001b[0m\n\u001b[1;32m     15\u001b[0m \u001b[0ml\u001b[0m\u001b[0;34m.\u001b[0m\u001b[0msend\u001b[0m\u001b[0;34m(\u001b[0m\u001b[0;34m\"wow\"\u001b[0m\u001b[0;34m)\u001b[0m\u001b[0;34m\u001b[0m\u001b[0;34m\u001b[0m\u001b[0m\n\u001b[0;32m---> 16\u001b[0;31m \u001b[0ml\u001b[0m\u001b[0;34m.\u001b[0m\u001b[0msend\u001b[0m\u001b[0;34m(\u001b[0m\u001b[0;34m\"pow\"\u001b[0m\u001b[0;34m)\u001b[0m\u001b[0;34m\u001b[0m\u001b[0;34m\u001b[0m\u001b[0m\n\u001b[0m\u001b[1;32m     17\u001b[0m \u001b[0;34m\u001b[0m\u001b[0m\n\u001b[1;32m     18\u001b[0m \u001b[0mprint\u001b[0m\u001b[0;34m(\u001b[0m\u001b[0mlist\u001b[0m\u001b[0;34m(\u001b[0m\u001b[0mcoro\u001b[0m\u001b[0;34m(\u001b[0m\u001b[0;34m)\u001b[0m\u001b[0;34m)\u001b[0m\u001b[0;34m)\u001b[0m\u001b[0;34m\u001b[0m\u001b[0;34m\u001b[0m\u001b[0m\n",
      "\u001b[0;31mStopIteration\u001b[0m: "
     ]
    }
   ],
   "source": [
    "def coro(max=3):\n",
    "    a = 0\n",
    "    print(\"Start something\")\n",
    "    \n",
    "    while a < max:\n",
    "        t = yield\n",
    "        print(f\"Consumed! {t}\")\n",
    "        a += 1\n",
    "        \n",
    "l = coro()\n",
    "print(l)\n",
    "print(next(l))\n",
    "\n",
    "l.send(1)\n",
    "l.send(\"wow\")\n",
    "l.send(\"pow\")\n",
    "\n",
    "print(list(coro()))"
   ]
  },
  {
   "cell_type": "markdown",
   "id": "f37afcaa",
   "metadata": {
    "slideshow": {
     "slide_type": "slide"
    }
   },
   "source": [
    "# Python 3.4: Introduction of AsyncIO\n",
    "\n",
    "https://www.python.org/dev/peps/pep-3156/\n"
   ]
  },
  {
   "cell_type": "code",
   "execution_count": 5,
   "id": "2ed5ece5",
   "metadata": {
    "slideshow": {
     "slide_type": "skip"
    }
   },
   "outputs": [],
   "source": [
    "# hack for jupyter notebook\n",
    "import nest_asyncio\n",
    "nest_asyncio.apply()"
   ]
  },
  {
   "cell_type": "code",
   "execution_count": 6,
   "id": "5b39c882",
   "metadata": {
    "slideshow": {
     "slide_type": "slide"
    }
   },
   "outputs": [
    {
     "name": "stderr",
     "output_type": "stream",
     "text": [
      "/tmp/ipykernel_113892/3377516070.py:4: DeprecationWarning: \"@coroutine\" decorator is deprecated since Python 3.8, use \"async def\" instead\n",
      "  def counter_coro(n):\n",
      "/tmp/ipykernel_113892/3377516070.py:14: DeprecationWarning: \"@coroutine\" decorator is deprecated since Python 3.8, use \"async def\" instead\n",
      "  def real_coro():\n",
      "/tmp/ipykernel_113892/3377516070.py:20: DeprecationWarning: \"@coroutine\" decorator is deprecated since Python 3.8, use \"async def\" instead\n",
      "  def manager():\n"
     ]
    },
    {
     "name": "stdout",
     "output_type": "stream",
     "text": [
      "<class 'generator'>\n",
      "0\n",
      "1\n",
      "2\n",
      "3\n",
      "4\n",
      "5\n",
      "6\n",
      "7\n",
      "8\n",
      "9\n",
      "Something happened\n",
      "answer: 24\n"
     ]
    }
   ],
   "source": [
    "import asyncio\n",
    "\n",
    "@asyncio.coroutine\n",
    "def counter_coro(n):\n",
    "    for i in range(n):\n",
    "        print(i)\n",
    "        try:\n",
    "            yield from asyncio.sleep(.1)\n",
    "            # for i in asyncio.sleep(.1) yield i\n",
    "        except asyncio.CanceledError:\n",
    "            break\n",
    "\n",
    "@asyncio.coroutine\n",
    "def real_coro():\n",
    "    yield from asyncio.sleep(1)\n",
    "    print(\"Something happened\")\n",
    "    return 24\n",
    "\n",
    "@asyncio.coroutine\n",
    "def manager():\n",
    "    coro = counter_coro(100)\n",
    "    print(type(coro))\n",
    "    counter = asyncio.ensure_future(coro)\n",
    "    result = yield from real_coro()\n",
    "    counter.cancel()\n",
    "    return result\n",
    "\n",
    "loop = asyncio.get_event_loop()\n",
    "result = loop.run_until_complete(manager())\n",
    "print(\"answer:\",  result)\n"
   ]
  },
  {
   "cell_type": "markdown",
   "id": "6fa2ddc6",
   "metadata": {
    "slideshow": {
     "slide_type": "slide"
    }
   },
   "source": [
    "# Python 3.5 ➡ 3.6 ➡ 3.7 ➡\n",
    "\n",
    "- Curio https://curio.readthedocs.io/en/latest/\n",
    "- async/await\n"
   ]
  },
  {
   "cell_type": "code",
   "execution_count": 7,
   "id": "101b27d8",
   "metadata": {
    "slideshow": {
     "slide_type": "-"
    }
   },
   "outputs": [
    {
     "name": "stdout",
     "output_type": "stream",
     "text": [
      "<class 'coroutine'>\n",
      "0\n",
      "1\n",
      "2\n",
      "3\n",
      "4\n",
      "5\n",
      "6\n",
      "7\n",
      "8\n",
      "9\n",
      "Something happened\n",
      "answer: 24\n"
     ]
    }
   ],
   "source": [
    "import asyncio\n",
    "\n",
    "async def counter_coro(n):\n",
    "    for i in range(n):\n",
    "        print(i)\n",
    "        await asyncio.sleep(.1)\n",
    "\n",
    "async def real_coro():\n",
    "    await asyncio.sleep(1)\n",
    "    print(\"Something happened\")\n",
    "    return 24\n",
    "\n",
    "async def manager():\n",
    "    coro = counter_coro(100)\n",
    "    print(type(coro)) # Awaitables: coroutines, Tasks, and Futures\n",
    "    counter = asyncio.create_task(coro)\n",
    "    result = await real_coro()\n",
    "    counter.cancel()\n",
    "    return result\n",
    "\n",
    "result = asyncio.run(manager())\n",
    "print(\"answer:\",  result)\n"
   ]
  },
  {
   "cell_type": "markdown",
   "id": "200c3fb3",
   "metadata": {
    "slideshow": {
     "slide_type": "slide"
    }
   },
   "source": [
    "# Dealing with multiple tasks\n",
    "\n",
    "## High level API\n",
    "\n",
    "- Coroutines, Tasks, **gather**, shield & wait_for\n",
    "- Synchronization Primitives - Lock, **Event**\n",
    "- Streams - networking without callbacks\n",
    "- Subprocesses - create_subprocess_exec, create_subprocess_shell\n",
    "- Queues\n",
    "\n",
    "## Low level API \n",
    "\n",
    "- Event loop\n",
    "- Futures\n",
    "- Policies, Transports, Protocols ..."
   ]
  },
  {
   "cell_type": "code",
   "execution_count": 10,
   "id": "f28a69f1",
   "metadata": {
    "scrolled": true,
    "slideshow": {
     "slide_type": "slide"
    }
   },
   "outputs": [
    {
     "name": "stdout",
     "output_type": "stream",
     "text": [
      "<class 'asyncio.tasks._GatheringFuture'>\n",
      "100\n",
      "35\n",
      "101\n",
      "36\n",
      "102\n",
      "37\n",
      "103\n",
      "38\n",
      "Ooops!\n",
      "104\n",
      "39\n",
      "105\n",
      "40\n",
      "106\n",
      "41\n",
      "107\n",
      "42\n",
      "108\n",
      "109\n",
      "110\n",
      "111\n",
      "112\n",
      "113\n",
      "114\n",
      "115\n",
      "116\n",
      "117\n",
      "118\n",
      "119\n"
     ]
    }
   ],
   "source": [
    "import random\n",
    "\n",
    "async def counter_coro(begin, end, event, boom = 42):\n",
    "    for i in range(begin, end):\n",
    "        print(i)\n",
    "        if  random.randint(1, 20) == 8 :\n",
    "            event.set()\n",
    "        if i == boom:\n",
    "            raise Exception(\"The answer!\")\n",
    "        await asyncio.sleep(.1)\n",
    "    return \"The end\"\n",
    "\n",
    "async def waiter(event):\n",
    "    await event.wait()\n",
    "    raise Exception(\"Ooops!\")\n",
    "\n",
    "async def main():\n",
    "    try:\n",
    "        event = asyncio.Event()\n",
    "        bunch = asyncio.gather(counter_coro(100, 120, event), counter_coro(35, 80, event), waiter(event),\n",
    "                               # return_exceptions=True,\n",
    "                              )\n",
    "        print(type(bunch)) \n",
    "        print(await bunch)\n",
    "    except Exception as e:\n",
    "        print(e)\n",
    "\n",
    "asyncio.run(main())"
   ]
  },
  {
   "cell_type": "markdown",
   "id": "af1eba29",
   "metadata": {
    "slideshow": {
     "slide_type": "slide"
    }
   },
   "source": [
    "# Are there better options? Trio\n",
    "\n",
    "https://trio.readthedocs.io/en/stable/tutorial.html#an-echo-client"
   ]
  },
  {
   "cell_type": "code",
   "execution_count": 9,
   "id": "efd49f62",
   "metadata": {
    "slideshow": {
     "slide_type": "slide"
    }
   },
   "outputs": [
    {
     "name": "stdout",
     "output_type": "stream",
     "text": [
      "42\n",
      "35\n"
     ]
    },
    {
     "name": "stderr",
     "output_type": "stream",
     "text": [
      "Traceback (most recent call last):\n",
      "  File \"/home/ku/.local/share/virtualenvs/python_asyncio-g6L0igIP/lib/python3.9/site-packages/IPython/core/interactiveshell.py\", line 3441, in run_code\n",
      "    exec(code_obj, self.user_global_ns, self.user_ns)\n",
      "  File \"/tmp/ipykernel_113892/817818457.py\", line 20, in <module>\n",
      "    trio.run(parent)\n",
      "  File \"/home/ku/.local/share/virtualenvs/python_asyncio-g6L0igIP/lib/python3.9/site-packages/trio/_core/_run.py\", line 1932, in run\n",
      "    raise runner.main_task_outcome.error\n",
      "  File \"/tmp/ipykernel_113892/817818457.py\", line 18, in parent\n",
      "    nursery.start_soon(boom)\n",
      "  File \"/home/ku/.local/share/virtualenvs/python_asyncio-g6L0igIP/lib/python3.9/site-packages/trio/_core/_run.py\", line 815, in __aexit__\n",
      "    raise combined_error_from_nursery\n",
      "trio.MultiError: Exception('The answer!'), ZeroDivisionError('division by zero')\n",
      "\n",
      "Details of embedded exception 1:\n",
      "\n",
      "  Traceback (most recent call last):\n",
      "    File \"/tmp/ipykernel_113892/817818457.py\", line 7, in counter_coro\n",
      "      raise Exception(\"The answer!\")\n",
      "  Exception: The answer!\n",
      "\n",
      "Details of embedded exception 2:\n",
      "\n",
      "  Traceback (most recent call last):\n",
      "    File \"/tmp/ipykernel_113892/817818457.py\", line 12, in boom\n",
      "      1/0\n",
      "  ZeroDivisionError: division by zero\n"
     ]
    }
   ],
   "source": [
    "import trio\n",
    "\n",
    "async def counter_coro(begin, end, boom = 42):\n",
    "    for i in range(begin, end):\n",
    "        print(i)\n",
    "        if i == boom:\n",
    "            raise Exception(\"The answer!\")\n",
    "        await trio.sleep(.1)\n",
    "    return \"The end\"\n",
    "\n",
    "async def boom():\n",
    "    1/0\n",
    "\n",
    "async def parent():\n",
    "    async with trio.open_nursery() as nursery:\n",
    "        nursery.start_soon(counter_coro, 42, 120)\n",
    "        nursery.start_soon(counter_coro, 35, 80)\n",
    "        nursery.start_soon(boom)\n",
    "\n",
    "trio.run(parent)"
   ]
  },
  {
   "cell_type": "markdown",
   "id": "5d9cb0af",
   "metadata": {
    "slideshow": {
     "slide_type": "slide"
    }
   },
   "source": [
    "# But why all the interfaces are so different?\n",
    "\n",
    "https://github.com/alex-sherman/unsync"
   ]
  },
  {
   "cell_type": "code",
   "execution_count": null,
   "id": "5cca59ae",
   "metadata": {
    "slideshow": {
     "slide_type": "slide"
    }
   },
   "outputs": [
    {
     "name": "stdout",
     "output_type": "stream",
     "text": [
      "108\n",
      "109\n",
      "110\n",
      "111\n",
      "112\n",
      "113\n",
      "114\n",
      "115\n",
      "116\n",
      "117\n",
      "118\n",
      "119\n"
     ]
    }
   ],
   "source": [
    "from unsync import unsync\n",
    "import time\n",
    "\n",
    "@unsync\n",
    "def non_async_function(seconds):\n",
    "    time.sleep(seconds)\n",
    "    return 1\n",
    "\n",
    "@unsync\n",
    "async def async_function(seconds):\n",
    "    await asyncio.sleep(seconds)\n",
    "    return 5\n",
    "\n",
    "@unsync(cpu_bound=True)\n",
    "def slow_function():\n",
    "    a = 10**101\n",
    "    b = 10**100\n",
    "    return a/b\n",
    "\n",
    "start = time.time()\n",
    "print(slow_function().result()  + async_function(1).result()  + non_async_function(0.5).result())\n",
    "print('Executed in {} seconds'.format(time.time() - start))"
   ]
  },
  {
   "cell_type": "markdown",
   "id": "8c3f428c",
   "metadata": {
    "slideshow": {
     "slide_type": "slide"
    }
   },
   "source": [
    "# await questions(folks)\n",
    "\n"
   ]
  },
  {
   "cell_type": "markdown",
   "id": "14e4ef7b",
   "metadata": {
    "slideshow": {
     "slide_type": "slide"
    }
   },
   "source": [
    "# Thanks and stay tuned!\n",
    "\n",
    "You can find these slides at:\n",
    "\n",
    "https://github.com/kumekay/talks/blob/main/python_asyncio/asyncio.ipynb\n",
    "\n",
    "\n",
    "### Next talk: Practical micropython with uasyncio\n",
    "\n"
   ]
  },
  {
   "cell_type": "markdown",
   "id": "55ed473d",
   "metadata": {
    "slideshow": {
     "slide_type": "slide"
    }
   },
   "source": [
    "Links:\n",
    "    \n",
    "- [Fluent Python by Luciano Ramalho](https://www.oreilly.com/library/view/fluent-python/9781491946237/)\n",
    "- [Async IO in Python: A Complete Walkthrough](https://realpython.com/async-io-python/)\n",
    "- [Miguel Grinberg Asynchronous Python for the Complete Beginner PyCon 2017](https://www.youtube.com/watch?v=iG6fr81xHKA)\n",
    "- [Demystifying Python's Async and Await Keywords](https://www.youtube.com/watch?v=F19R_M4Nay4)\n",
    "- [asyncio: what's next | Yury Selivanov @ PyBay2018](https://www.youtube.com/watch?v=vem5GHboRNM)"
   ]
  }
 ],
 "metadata": {
  "celltoolbar": "Slideshow",
  "interpreter": {
   "hash": "2194d8dbf3bf3c4e33f72a8e473a52e18a6055893f2b6f65fbc79b802e82c1e1"
  },
  "kernelspec": {
   "display_name": "Python 3 (ipykernel)",
   "language": "python",
   "name": "python3"
  },
  "language_info": {
   "codemirror_mode": {
    "name": "ipython",
    "version": 3
   },
   "file_extension": ".py",
   "mimetype": "text/x-python",
   "name": "python",
   "nbconvert_exporter": "python",
   "pygments_lexer": "ipython3",
   "version": "3.9.6"
  }
 },
 "nbformat": 4,
 "nbformat_minor": 5
}
